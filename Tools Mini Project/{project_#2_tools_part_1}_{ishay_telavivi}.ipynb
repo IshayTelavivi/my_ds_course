{
 "cells": [
  {
   "cell_type": "markdown",
   "metadata": {},
   "source": [
    "### Comments\n",
    "* Getting the data -  I did not assume that the max peak number necessarily equal the number of peaks. Therfore I used the peak number within the HTML code from the continent webpages.\n",
    "* Another point is that I preferred to get all the data and then create the dataframe, and not creating the dataframe in steps. \n",
    "* I decided to not use the pipeline function, to allow transparency of the working process, i.e. so you will be able to see the outputs of each step.\n",
    "* I changed the dtypes only to the two Elevation columns since I needed that for the missing values. I did not do it for the Latitude and Longitude, I will be able to do that on the analysis phase. "
   ]
  },
  {
   "cell_type": "code",
   "execution_count": 1,
   "metadata": {
    "collapsed": true
   },
   "outputs": [],
   "source": [
    "import re\n",
    "import requests\n",
    "import pandas as pd\n",
    "import numpy as np\n",
    "from bs4 import BeautifulSoup as bs\n",
    "from tqdm import tqdm"
   ]
  },
  {
   "cell_type": "code",
   "execution_count": 2,
   "metadata": {
    "collapsed": true
   },
   "outputs": [],
   "source": [
    "URL_MAIN = 'http://www.peakware.com/peaks.php'\n",
    "CONTINENT_CODE_LIST = ['AfA', 'AnA', 'AsA', 'AuA', 'EuA', 'NoA', 'SoA', 'ABC']\n",
    "METER_TO_FEET = 3.28084\n",
    "feet_to_meter = 1 / METER_TO_FEET"
   ]
  },
  {
   "cell_type": "code",
   "execution_count": 8,
   "metadata": {
    "collapsed": true
   },
   "outputs": [],
   "source": [
    "class Peak():\n",
    "    def __init__(self, peak_name, peak_num):\n",
    "        self.name = peak_name\n",
    "        self.peak_num = peak_num\n",
    "        \n",
    "        self.features = {} # This dictionary contains the peak's features. Empty upon instance creation\n",
    "    \n",
    "    # The following method receives the main URL and uses the peak number to get into the peak's webpage, and pull all the \n",
    "    # attributs of the peak, and store it in the self.features dictionary\n",
    "    def get_peak_features(self, url):\n",
    "        peak_url = \"{}?pk={}\".format(url, self.peak_num) # Gets the URL of the peak\n",
    "        peak_resp = requests.get(peak_url) \n",
    "        peak_soup = bs(peak_resp.text, 'lxml')\n",
    "        main = peak_soup.find(name = 'main') # Filters the soup only to the 'main' tag\n",
    "        peak_features = main.find_all(name = 'tr') # creates a list with all the 'tr' tags within 'main'\n",
    "        # The following for loop runs on each 'tr' tag, finds for each feature its name (key) and value\n",
    "        for tr in peak_features:\n",
    "            feature = tr.th.text[:-1] # Takes out the colon at the end\n",
    "            self.features[feature] = tr.td.text # I can turn this into an integer now or later"
   ]
  },
  {
   "cell_type": "code",
   "execution_count": 4,
   "metadata": {
    "collapsed": true
   },
   "outputs": [],
   "source": [
    "def get_name_and_num_for_all_peaks(url, continent_code_list):\n",
    "    \"\"\"\n",
    "    The function brings all the numbers and names of the peaks, running on continent web pages one after the other.\n",
    "    Inputs:\n",
    "    1. url - the main URL the precedes the scepefic code for the peak\n",
    "    2. continent_code_list - a list of continent codes\n",
    "    The function returns a list of tuples, each tuple contains the peak's name and number (site code for the peak)\n",
    "    \"\"\"\n",
    "    \n",
    "    list_of_peaks = [] # The tuples will be stored within this list\n",
    "    # The following for loop brings the function output per continent\n",
    "    for short_cont_name in tqdm(continent_code_list):\n",
    "        continent_url = \"{}?choice={}\".format(url, short_cont_name) # Gets the URL of the continent (order by names)\n",
    "        continent_resp = requests.get(continent_url)\n",
    "        continent_soup = bs(continent_resp.text, 'lxml')\n",
    "        peak_list = continent_soup.find(id=\"peakList\") # Filters the soup only to the tag with id=\"peakList\"\n",
    "        li_peaks = peak_list.find_all(name='li') # Each peak is bounded by the 'li' tag\n",
    "        # The following for loop runs on each peak and brings the name and number\n",
    "        for li_peak in li_peaks:\n",
    "            peak_name = li_peak.a.text\n",
    "            peak_num = re.findall('\\d+', str(li_peak.a)) # Using regex to get the number\n",
    "            list_of_peaks.append((peak_name, int(peak_num[0])))\n",
    "    return list_of_peaks"
   ]
  },
  {
   "cell_type": "code",
   "execution_count": 5,
   "metadata": {},
   "outputs": [
    {
     "name": "stderr",
     "output_type": "stream",
     "text": [
      "100%|████████████████████████████████████████████████████████████████████████████████████| 7/7 [00:12<00:00,  1.85s/it]\n"
     ]
    }
   ],
   "source": [
    "peak_tuple_list = get_name_and_num_for_all_peaks(URL_MAIN, CONTINENT_CODE_LIST)"
   ]
  },
  {
   "cell_type": "code",
   "execution_count": 6,
   "metadata": {},
   "outputs": [
    {
     "data": {
      "text/plain": [
       "4194"
      ]
     },
     "execution_count": 6,
     "metadata": {},
     "output_type": "execute_result"
    }
   ],
   "source": [
    "len(peak_tuple_list) # making sure that the number makes sense"
   ]
  },
  {
   "cell_type": "code",
   "execution_count": 9,
   "metadata": {},
   "outputs": [
    {
     "name": "stdout",
     "output_type": "stream",
     "text": [
      "{}\n",
      "{'Elevation (feet)': '11,864', 'Elevation (meters)': '3,616', 'Continent': 'Africa', 'Country': 'Morocco', 'Range/Region': 'High Atlas', 'Latitude': '31.1753', 'Longitude': '-7.8254', 'Difficulty': 'Scramble', 'Best months for climbing': 'Jan, Feb, Mar, Apr, May, Jun, Oct, Nov, Dec', 'Nearest major airport': 'Marrakech', 'Convenient Center': 'Marrakech'}\n"
     ]
    }
   ],
   "source": [
    "# Test to see that it extracts the features - Just a test, not part of the main code\n",
    "\n",
    "# peak1 = Peak(peak_tuple_list[2][0], peak_tuple_list[2][1])\n",
    "# print(peak1.features) # prints before getting the features\n",
    "# peak1.get_peak_features(URL_MAIN)\n",
    "# print(peak1.features) # prints after getting the features"
   ]
  },
  {
   "cell_type": "code",
   "execution_count": 10,
   "metadata": {
    "collapsed": true
   },
   "outputs": [],
   "source": [
    "def make_df_from_peak_list(peak_list, url):\n",
    "    \"\"\"\n",
    "    The fuction takes a list of tuples with the peaks' names and numbers and returns a dataframe with the data.\n",
    "    Input: peak_list - a list of tuples with the peak's name and number\n",
    "    The function does the following:\n",
    "    1. creates an instance of Peak\n",
    "    2. gets features from the peak's webpage\n",
    "    3. puts everything in a dicitonary\n",
    "    3. turns the dictionary into a dataframe\n",
    "    The function returns a dataframe with all peaks and their features\n",
    "    \"\"\"\n",
    "    \n",
    "    dict_of_peaks = {} # The features will be stored within this dict\n",
    "    for tup in tqdm(peak_list):\n",
    "        #I had a problem with the SSL verification so I am using this try-except expression \n",
    "        try:\n",
    "            peak_instance = Peak(tup[0], tup[1]) # Create a peak instance\n",
    "            peak_instance.get_peak_features(url) # Get the featres - using the class method\n",
    "            dict_of_peaks[peak_instance.name] = peak_instance.features # Saving the features into the dict\n",
    "        except:\n",
    "            print(\"could not get details for peak no. {}.\".format(tup[1]))\n",
    "    data = pd.DataFrame.from_dict(dict_of_peaks) # creating a pandas dataframe\n",
    "    data = data.T\n",
    "    return data"
   ]
  },
  {
   "cell_type": "code",
   "execution_count": 11,
   "metadata": {},
   "outputs": [
    {
     "name": "stderr",
     "output_type": "stream",
     "text": [
      "100%|████████████████████████████████████████████████████████████████████████████| 4194/4194 [2:02:47<00:00,  1.76s/it]\n"
     ]
    }
   ],
   "source": [
    "data = make_df_from_peak_list(peak_tuple_list, URL_MAIN) # Creating the dataframe by calling the make_df_from_peak_list function"
   ]
  },
  {
   "cell_type": "code",
   "execution_count": 12,
   "metadata": {},
   "outputs": [
    {
     "data": {
      "text/html": [
       "<div>\n",
       "<style>\n",
       "    .dataframe thead tr:only-child th {\n",
       "        text-align: right;\n",
       "    }\n",
       "\n",
       "    .dataframe thead th {\n",
       "        text-align: left;\n",
       "    }\n",
       "\n",
       "    .dataframe tbody tr th {\n",
       "        vertical-align: top;\n",
       "    }\n",
       "</style>\n",
       "<table border=\"1\" class=\"dataframe\">\n",
       "  <thead>\n",
       "    <tr style=\"text-align: right;\">\n",
       "      <th></th>\n",
       "      <th>Best months for climbing</th>\n",
       "      <th>Continent</th>\n",
       "      <th>Convenient Center</th>\n",
       "      <th>Country</th>\n",
       "      <th>Difficulty</th>\n",
       "      <th>Elevation (feet)</th>\n",
       "      <th>Elevation (meters)</th>\n",
       "      <th>First successful climber(s)</th>\n",
       "      <th>Latitude</th>\n",
       "      <th>Longitude</th>\n",
       "      <th>Most recent eruption</th>\n",
       "      <th>Nearest major airport</th>\n",
       "      <th>Province</th>\n",
       "      <th>Range/Region</th>\n",
       "      <th>State</th>\n",
       "      <th>Volcanic status</th>\n",
       "      <th>Year first climbed</th>\n",
       "    </tr>\n",
       "  </thead>\n",
       "  <tbody>\n",
       "    <tr>\n",
       "      <th>19th Party Conference, Peak</th>\n",
       "      <td>Jun, Jul, Aug</td>\n",
       "      <td>Asia</td>\n",
       "      <td>Osh</td>\n",
       "      <td>Kyrgyzstan</td>\n",
       "      <td>Basic Snow/Ice Climb</td>\n",
       "      <td>5,885</td>\n",
       "      <td>1,794</td>\n",
       "      <td>Vitaly Abalakow</td>\n",
       "      <td>39.3833</td>\n",
       "      <td>72.9667</td>\n",
       "      <td>NaN</td>\n",
       "      <td>Osh</td>\n",
       "      <td>NaN</td>\n",
       "      <td>Pamir</td>\n",
       "      <td>NaN</td>\n",
       "      <td>NaN</td>\n",
       "      <td>1930</td>\n",
       "    </tr>\n",
       "    <tr>\n",
       "      <th>8620, Peak</th>\n",
       "      <td>Apr, May, Jun</td>\n",
       "      <td>North America</td>\n",
       "      <td>Denali Park</td>\n",
       "      <td>United States</td>\n",
       "      <td>Technical Climb</td>\n",
       "      <td>8,620</td>\n",
       "      <td>2,627</td>\n",
       "      <td>NaN</td>\n",
       "      <td>63.25</td>\n",
       "      <td>-150.25</td>\n",
       "      <td>NaN</td>\n",
       "      <td>Fairbanks</td>\n",
       "      <td>NaN</td>\n",
       "      <td>Alaska Range</td>\n",
       "      <td>Alaska</td>\n",
       "      <td>NaN</td>\n",
       "      <td>NaN</td>\n",
       "    </tr>\n",
       "    <tr>\n",
       "      <th>A'Mhaighdean</th>\n",
       "      <td>May, Jun, Jul</td>\n",
       "      <td>Europe</td>\n",
       "      <td>Inverness</td>\n",
       "      <td>United Kingdom</td>\n",
       "      <td>Scramble</td>\n",
       "      <td>3,173</td>\n",
       "      <td>967</td>\n",
       "      <td>NaN</td>\n",
       "      <td>57.7196</td>\n",
       "      <td>-5.3463</td>\n",
       "      <td>NaN</td>\n",
       "      <td>Inverness</td>\n",
       "      <td>NaN</td>\n",
       "      <td>Scottish Highlands</td>\n",
       "      <td>NaN</td>\n",
       "      <td>NaN</td>\n",
       "      <td>NaN</td>\n",
       "    </tr>\n",
       "    <tr>\n",
       "      <th>Abbot, Mount</th>\n",
       "      <td>Jun, Jul, Aug, Sep</td>\n",
       "      <td>North America</td>\n",
       "      <td>Toms Place or Bishop</td>\n",
       "      <td>United States</td>\n",
       "      <td>Basic Snow/Ice Climb</td>\n",
       "      <td>13,704</td>\n",
       "      <td>4,177</td>\n",
       "      <td>Jame Hutchinson, Joseph LeConte and Duncan McD...</td>\n",
       "      <td>37.3864</td>\n",
       "      <td>-118.784</td>\n",
       "      <td>NaN</td>\n",
       "      <td>NaN</td>\n",
       "      <td>NaN</td>\n",
       "      <td>Sierra Nevada</td>\n",
       "      <td>California</td>\n",
       "      <td>NaN</td>\n",
       "      <td>1908</td>\n",
       "    </tr>\n",
       "    <tr>\n",
       "      <th>Abbott Butte</th>\n",
       "      <td>May, Jun, Jul, Aug, Sep, Oct</td>\n",
       "      <td>North America</td>\n",
       "      <td>Union Peak, Oregon</td>\n",
       "      <td>United States</td>\n",
       "      <td>NaN</td>\n",
       "      <td>6,125</td>\n",
       "      <td>1,867</td>\n",
       "      <td>NaN</td>\n",
       "      <td>42.943457</td>\n",
       "      <td>-122.549764</td>\n",
       "      <td>NaN</td>\n",
       "      <td>Eugene Airport</td>\n",
       "      <td>NaN</td>\n",
       "      <td>Cascade Range</td>\n",
       "      <td>Oregon</td>\n",
       "      <td>NaN</td>\n",
       "      <td>NaN</td>\n",
       "    </tr>\n",
       "  </tbody>\n",
       "</table>\n",
       "</div>"
      ],
      "text/plain": [
       "                                 Best months for climbing      Continent  \\\n",
       "19th Party Conference, Peak                 Jun, Jul, Aug           Asia   \n",
       "8620, Peak                                  Apr, May, Jun  North America   \n",
       "A'Mhaighdean                                May, Jun, Jul         Europe   \n",
       "Abbot, Mount                           Jun, Jul, Aug, Sep  North America   \n",
       "Abbott Butte                 May, Jun, Jul, Aug, Sep, Oct  North America   \n",
       "\n",
       "                                Convenient Center         Country  \\\n",
       "19th Party Conference, Peak                   Osh      Kyrgyzstan   \n",
       "8620, Peak                            Denali Park   United States   \n",
       "A'Mhaighdean                            Inverness  United Kingdom   \n",
       "Abbot, Mount                 Toms Place or Bishop   United States   \n",
       "Abbott Butte                   Union Peak, Oregon   United States   \n",
       "\n",
       "                                       Difficulty Elevation (feet)  \\\n",
       "19th Party Conference, Peak  Basic Snow/Ice Climb            5,885   \n",
       "8620, Peak                        Technical Climb            8,620   \n",
       "A'Mhaighdean                             Scramble            3,173   \n",
       "Abbot, Mount                 Basic Snow/Ice Climb           13,704   \n",
       "Abbott Butte                                  NaN            6,125   \n",
       "\n",
       "                            Elevation (meters)  \\\n",
       "19th Party Conference, Peak              1,794   \n",
       "8620, Peak                               2,627   \n",
       "A'Mhaighdean                               967   \n",
       "Abbot, Mount                             4,177   \n",
       "Abbott Butte                             1,867   \n",
       "\n",
       "                                                   First successful climber(s)  \\\n",
       "19th Party Conference, Peak                                    Vitaly Abalakow   \n",
       "8620, Peak                                                                 NaN   \n",
       "A'Mhaighdean                                                               NaN   \n",
       "Abbot, Mount                 Jame Hutchinson, Joseph LeConte and Duncan McD...   \n",
       "Abbott Butte                                                               NaN   \n",
       "\n",
       "                              Latitude    Longitude Most recent eruption  \\\n",
       "19th Party Conference, Peak    39.3833      72.9667                  NaN   \n",
       "8620, Peak                       63.25      -150.25                  NaN   \n",
       "A'Mhaighdean                   57.7196      -5.3463                  NaN   \n",
       "Abbot, Mount                   37.3864     -118.784                  NaN   \n",
       "Abbott Butte                 42.943457  -122.549764                  NaN   \n",
       "\n",
       "                            Nearest major airport Province  \\\n",
       "19th Party Conference, Peak                   Osh      NaN   \n",
       "8620, Peak                              Fairbanks      NaN   \n",
       "A'Mhaighdean                            Inverness      NaN   \n",
       "Abbot, Mount                                  NaN      NaN   \n",
       "Abbott Butte                       Eugene Airport      NaN   \n",
       "\n",
       "                                   Range/Region       State Volcanic status  \\\n",
       "19th Party Conference, Peak               Pamir         NaN             NaN   \n",
       "8620, Peak                         Alaska Range      Alaska             NaN   \n",
       "A'Mhaighdean                 Scottish Highlands         NaN             NaN   \n",
       "Abbot, Mount                      Sierra Nevada  California             NaN   \n",
       "Abbott Butte                      Cascade Range      Oregon             NaN   \n",
       "\n",
       "                            Year first climbed  \n",
       "19th Party Conference, Peak               1930  \n",
       "8620, Peak                                 NaN  \n",
       "A'Mhaighdean                               NaN  \n",
       "Abbot, Mount                              1908  \n",
       "Abbott Butte                               NaN  "
      ]
     },
     "execution_count": 12,
     "metadata": {},
     "output_type": "execute_result"
    }
   ],
   "source": [
    "# At this point I have a raw dataframe with all the peaks' features\n",
    "data.head()"
   ]
  },
  {
   "cell_type": "code",
   "execution_count": 13,
   "metadata": {},
   "outputs": [
    {
     "name": "stdout",
     "output_type": "stream",
     "text": [
      "<class 'pandas.core.frame.DataFrame'>\n",
      "Index: 4092 entries, 19th Party Conference, Peak to Šiljak (Rtanj)\n",
      "Data columns (total 17 columns):\n",
      "Best months for climbing       3834 non-null object\n",
      "Continent                      4092 non-null object\n",
      "Convenient Center              3813 non-null object\n",
      "Country                        4092 non-null object\n",
      "Difficulty                     3841 non-null object\n",
      "Elevation (feet)               4086 non-null object\n",
      "Elevation (meters)             4083 non-null object\n",
      "First successful climber(s)    1470 non-null object\n",
      "Latitude                       3500 non-null object\n",
      "Longitude                      3500 non-null object\n",
      "Most recent eruption           111 non-null object\n",
      "Nearest major airport          3775 non-null object\n",
      "Province                       248 non-null object\n",
      "Range/Region                   3195 non-null object\n",
      "State                          1182 non-null object\n",
      "Volcanic status                230 non-null object\n",
      "Year first climbed             1461 non-null object\n",
      "dtypes: object(17)\n",
      "memory usage: 575.4+ KB\n"
     ]
    }
   ],
   "source": [
    "data.info()"
   ]
  },
  {
   "cell_type": "code",
   "execution_count": 14,
   "metadata": {},
   "outputs": [
    {
     "data": {
      "text/plain": [
       "Best months for climbing        290\n",
       "Continent                         7\n",
       "Convenient Center              2229\n",
       "Country                         196\n",
       "Difficulty                        7\n",
       "Elevation (feet)               3194\n",
       "Elevation (meters)             2747\n",
       "First successful climber(s)    1325\n",
       "Latitude                       3380\n",
       "Longitude                      3414\n",
       "Most recent eruption             96\n",
       "Nearest major airport          1482\n",
       "Province                          9\n",
       "Range/Region                    237\n",
       "State                            60\n",
       "Volcanic status                   3\n",
       "Year first climbed              419\n",
       "dtype: int64"
      ]
     },
     "execution_count": 14,
     "metadata": {},
     "output_type": "execute_result"
    }
   ],
   "source": [
    "#I am checking that the data mekes sense in terms of how many unique values in each column\n",
    "data.nunique()"
   ]
  },
  {
   "cell_type": "code",
   "execution_count": 15,
   "metadata": {
    "collapsed": true
   },
   "outputs": [],
   "source": [
    "# I was asked to turn the data to lowercase. I prefer to do that at the beginning of the eprocessing since it turns all \n",
    "# the dtypes into strings. Any way I am doing it only to the columns where terms may be written differently for different peaks\n",
    "list_columns_lowercase = ['Continent', 'Country', 'Difficulty', 'Nearest major airport']\n",
    "data.loc[:, list_columns_lowercase] = data.loc[:, list_columns_lowercase].apply(lambda x: x.astype(str).str.lower())\n",
    "# I was also asked to turn the missing values to None. Since None gives me NaN, I am leaving the null values as is."
   ]
  },
  {
   "cell_type": "code",
   "execution_count": 16,
   "metadata": {},
   "outputs": [
    {
     "data": {
      "text/html": [
       "<div>\n",
       "<style>\n",
       "    .dataframe thead tr:only-child th {\n",
       "        text-align: right;\n",
       "    }\n",
       "\n",
       "    .dataframe thead th {\n",
       "        text-align: left;\n",
       "    }\n",
       "\n",
       "    .dataframe tbody tr th {\n",
       "        vertical-align: top;\n",
       "    }\n",
       "</style>\n",
       "<table border=\"1\" class=\"dataframe\">\n",
       "  <thead>\n",
       "    <tr style=\"text-align: right;\">\n",
       "      <th></th>\n",
       "      <th>Best months for climbing</th>\n",
       "      <th>Continent</th>\n",
       "      <th>Convenient Center</th>\n",
       "      <th>Country</th>\n",
       "      <th>Difficulty</th>\n",
       "      <th>Elevation (feet)</th>\n",
       "      <th>Elevation (meters)</th>\n",
       "      <th>First successful climber(s)</th>\n",
       "      <th>Latitude</th>\n",
       "      <th>Longitude</th>\n",
       "      <th>Most recent eruption</th>\n",
       "      <th>Nearest major airport</th>\n",
       "      <th>Province</th>\n",
       "      <th>Range/Region</th>\n",
       "      <th>State</th>\n",
       "      <th>Volcanic status</th>\n",
       "      <th>Year first climbed</th>\n",
       "    </tr>\n",
       "  </thead>\n",
       "  <tbody>\n",
       "    <tr>\n",
       "      <th>19th Party Conference, Peak</th>\n",
       "      <td>Jun, Jul, Aug</td>\n",
       "      <td>asia</td>\n",
       "      <td>Osh</td>\n",
       "      <td>kyrgyzstan</td>\n",
       "      <td>basic snow/ice climb</td>\n",
       "      <td>5,885</td>\n",
       "      <td>1,794</td>\n",
       "      <td>Vitaly Abalakow</td>\n",
       "      <td>39.3833</td>\n",
       "      <td>72.9667</td>\n",
       "      <td>NaN</td>\n",
       "      <td>osh</td>\n",
       "      <td>NaN</td>\n",
       "      <td>Pamir</td>\n",
       "      <td>NaN</td>\n",
       "      <td>NaN</td>\n",
       "      <td>1930</td>\n",
       "    </tr>\n",
       "    <tr>\n",
       "      <th>8620, Peak</th>\n",
       "      <td>Apr, May, Jun</td>\n",
       "      <td>north america</td>\n",
       "      <td>Denali Park</td>\n",
       "      <td>united states</td>\n",
       "      <td>technical climb</td>\n",
       "      <td>8,620</td>\n",
       "      <td>2,627</td>\n",
       "      <td>NaN</td>\n",
       "      <td>63.25</td>\n",
       "      <td>-150.25</td>\n",
       "      <td>NaN</td>\n",
       "      <td>fairbanks</td>\n",
       "      <td>NaN</td>\n",
       "      <td>Alaska Range</td>\n",
       "      <td>Alaska</td>\n",
       "      <td>NaN</td>\n",
       "      <td>NaN</td>\n",
       "    </tr>\n",
       "    <tr>\n",
       "      <th>A'Mhaighdean</th>\n",
       "      <td>May, Jun, Jul</td>\n",
       "      <td>europe</td>\n",
       "      <td>Inverness</td>\n",
       "      <td>united kingdom</td>\n",
       "      <td>scramble</td>\n",
       "      <td>3,173</td>\n",
       "      <td>967</td>\n",
       "      <td>NaN</td>\n",
       "      <td>57.7196</td>\n",
       "      <td>-5.3463</td>\n",
       "      <td>NaN</td>\n",
       "      <td>inverness</td>\n",
       "      <td>NaN</td>\n",
       "      <td>Scottish Highlands</td>\n",
       "      <td>NaN</td>\n",
       "      <td>NaN</td>\n",
       "      <td>NaN</td>\n",
       "    </tr>\n",
       "    <tr>\n",
       "      <th>Abbot, Mount</th>\n",
       "      <td>Jun, Jul, Aug, Sep</td>\n",
       "      <td>north america</td>\n",
       "      <td>Toms Place or Bishop</td>\n",
       "      <td>united states</td>\n",
       "      <td>basic snow/ice climb</td>\n",
       "      <td>13,704</td>\n",
       "      <td>4,177</td>\n",
       "      <td>Jame Hutchinson, Joseph LeConte and Duncan McD...</td>\n",
       "      <td>37.3864</td>\n",
       "      <td>-118.784</td>\n",
       "      <td>NaN</td>\n",
       "      <td>nan</td>\n",
       "      <td>NaN</td>\n",
       "      <td>Sierra Nevada</td>\n",
       "      <td>California</td>\n",
       "      <td>NaN</td>\n",
       "      <td>1908</td>\n",
       "    </tr>\n",
       "    <tr>\n",
       "      <th>Abbott Butte</th>\n",
       "      <td>May, Jun, Jul, Aug, Sep, Oct</td>\n",
       "      <td>north america</td>\n",
       "      <td>Union Peak, Oregon</td>\n",
       "      <td>united states</td>\n",
       "      <td>nan</td>\n",
       "      <td>6,125</td>\n",
       "      <td>1,867</td>\n",
       "      <td>NaN</td>\n",
       "      <td>42.943457</td>\n",
       "      <td>-122.549764</td>\n",
       "      <td>NaN</td>\n",
       "      <td>eugene airport</td>\n",
       "      <td>NaN</td>\n",
       "      <td>Cascade Range</td>\n",
       "      <td>Oregon</td>\n",
       "      <td>NaN</td>\n",
       "      <td>NaN</td>\n",
       "    </tr>\n",
       "  </tbody>\n",
       "</table>\n",
       "</div>"
      ],
      "text/plain": [
       "                                 Best months for climbing      Continent  \\\n",
       "19th Party Conference, Peak                 Jun, Jul, Aug           asia   \n",
       "8620, Peak                                  Apr, May, Jun  north america   \n",
       "A'Mhaighdean                                May, Jun, Jul         europe   \n",
       "Abbot, Mount                           Jun, Jul, Aug, Sep  north america   \n",
       "Abbott Butte                 May, Jun, Jul, Aug, Sep, Oct  north america   \n",
       "\n",
       "                                Convenient Center         Country  \\\n",
       "19th Party Conference, Peak                   Osh      kyrgyzstan   \n",
       "8620, Peak                            Denali Park   united states   \n",
       "A'Mhaighdean                            Inverness  united kingdom   \n",
       "Abbot, Mount                 Toms Place or Bishop   united states   \n",
       "Abbott Butte                   Union Peak, Oregon   united states   \n",
       "\n",
       "                                       Difficulty Elevation (feet)  \\\n",
       "19th Party Conference, Peak  basic snow/ice climb            5,885   \n",
       "8620, Peak                        technical climb            8,620   \n",
       "A'Mhaighdean                             scramble            3,173   \n",
       "Abbot, Mount                 basic snow/ice climb           13,704   \n",
       "Abbott Butte                                  nan            6,125   \n",
       "\n",
       "                            Elevation (meters)  \\\n",
       "19th Party Conference, Peak              1,794   \n",
       "8620, Peak                               2,627   \n",
       "A'Mhaighdean                               967   \n",
       "Abbot, Mount                             4,177   \n",
       "Abbott Butte                             1,867   \n",
       "\n",
       "                                                   First successful climber(s)  \\\n",
       "19th Party Conference, Peak                                    Vitaly Abalakow   \n",
       "8620, Peak                                                                 NaN   \n",
       "A'Mhaighdean                                                               NaN   \n",
       "Abbot, Mount                 Jame Hutchinson, Joseph LeConte and Duncan McD...   \n",
       "Abbott Butte                                                               NaN   \n",
       "\n",
       "                              Latitude    Longitude Most recent eruption  \\\n",
       "19th Party Conference, Peak    39.3833      72.9667                  NaN   \n",
       "8620, Peak                       63.25      -150.25                  NaN   \n",
       "A'Mhaighdean                   57.7196      -5.3463                  NaN   \n",
       "Abbot, Mount                   37.3864     -118.784                  NaN   \n",
       "Abbott Butte                 42.943457  -122.549764                  NaN   \n",
       "\n",
       "                            Nearest major airport Province  \\\n",
       "19th Party Conference, Peak                   osh      NaN   \n",
       "8620, Peak                              fairbanks      NaN   \n",
       "A'Mhaighdean                            inverness      NaN   \n",
       "Abbot, Mount                                  nan      NaN   \n",
       "Abbott Butte                       eugene airport      NaN   \n",
       "\n",
       "                                   Range/Region       State Volcanic status  \\\n",
       "19th Party Conference, Peak               Pamir         NaN             NaN   \n",
       "8620, Peak                         Alaska Range      Alaska             NaN   \n",
       "A'Mhaighdean                 Scottish Highlands         NaN             NaN   \n",
       "Abbot, Mount                      Sierra Nevada  California             NaN   \n",
       "Abbott Butte                      Cascade Range      Oregon             NaN   \n",
       "\n",
       "                            Year first climbed  \n",
       "19th Party Conference, Peak               1930  \n",
       "8620, Peak                                 NaN  \n",
       "A'Mhaighdean                               NaN  \n",
       "Abbot, Mount                              1908  \n",
       "Abbott Butte                               NaN  "
      ]
     },
     "execution_count": 16,
     "metadata": {},
     "output_type": "execute_result"
    }
   ],
   "source": [
    "# Checking that it has changed to lowercase\n",
    "data.head()"
   ]
  },
  {
   "cell_type": "code",
   "execution_count": 17,
   "metadata": {
    "collapsed": true
   },
   "outputs": [],
   "source": [
    "# I am leaving only the columns I need\n",
    "data = data[['Continent', 'Country', 'Difficulty', 'Elevation (feet)', 'Elevation (meters)', 'Latitude', 'Longitude',\\\n",
    "                    'Nearest major airport', 'Year first climbed']]"
   ]
  },
  {
   "cell_type": "code",
   "execution_count": 18,
   "metadata": {
    "collapsed": true
   },
   "outputs": [],
   "source": [
    "# This step takes out the comma from the Elevation columns\n",
    "elevation_columns_no_comma = data.loc[:,['Elevation (feet)', 'Elevation (meters)']].apply(lambda x: x.str.replace(\",\",\"\"))\n",
    "data.loc[:,['Elevation (feet)', 'Elevation (meters)']] = elevation_columns_no_comma"
   ]
  },
  {
   "cell_type": "code",
   "execution_count": 19,
   "metadata": {},
   "outputs": [
    {
     "data": {
      "text/html": [
       "<div>\n",
       "<style>\n",
       "    .dataframe thead tr:only-child th {\n",
       "        text-align: right;\n",
       "    }\n",
       "\n",
       "    .dataframe thead th {\n",
       "        text-align: left;\n",
       "    }\n",
       "\n",
       "    .dataframe tbody tr th {\n",
       "        vertical-align: top;\n",
       "    }\n",
       "</style>\n",
       "<table border=\"1\" class=\"dataframe\">\n",
       "  <thead>\n",
       "    <tr style=\"text-align: right;\">\n",
       "      <th></th>\n",
       "      <th>Continent</th>\n",
       "      <th>Country</th>\n",
       "      <th>Difficulty</th>\n",
       "      <th>Elevation (feet)</th>\n",
       "      <th>Elevation (meters)</th>\n",
       "      <th>Latitude</th>\n",
       "      <th>Longitude</th>\n",
       "      <th>Nearest major airport</th>\n",
       "      <th>Year first climbed</th>\n",
       "    </tr>\n",
       "  </thead>\n",
       "  <tbody>\n",
       "    <tr>\n",
       "      <th>19th Party Conference, Peak</th>\n",
       "      <td>asia</td>\n",
       "      <td>kyrgyzstan</td>\n",
       "      <td>basic snow/ice climb</td>\n",
       "      <td>5885</td>\n",
       "      <td>1794</td>\n",
       "      <td>39.3833</td>\n",
       "      <td>72.9667</td>\n",
       "      <td>osh</td>\n",
       "      <td>1930</td>\n",
       "    </tr>\n",
       "    <tr>\n",
       "      <th>8620, Peak</th>\n",
       "      <td>north america</td>\n",
       "      <td>united states</td>\n",
       "      <td>technical climb</td>\n",
       "      <td>8620</td>\n",
       "      <td>2627</td>\n",
       "      <td>63.25</td>\n",
       "      <td>-150.25</td>\n",
       "      <td>fairbanks</td>\n",
       "      <td>NaN</td>\n",
       "    </tr>\n",
       "    <tr>\n",
       "      <th>A'Mhaighdean</th>\n",
       "      <td>europe</td>\n",
       "      <td>united kingdom</td>\n",
       "      <td>scramble</td>\n",
       "      <td>3173</td>\n",
       "      <td>967</td>\n",
       "      <td>57.7196</td>\n",
       "      <td>-5.3463</td>\n",
       "      <td>inverness</td>\n",
       "      <td>NaN</td>\n",
       "    </tr>\n",
       "    <tr>\n",
       "      <th>Abbot, Mount</th>\n",
       "      <td>north america</td>\n",
       "      <td>united states</td>\n",
       "      <td>basic snow/ice climb</td>\n",
       "      <td>13704</td>\n",
       "      <td>4177</td>\n",
       "      <td>37.3864</td>\n",
       "      <td>-118.784</td>\n",
       "      <td>nan</td>\n",
       "      <td>1908</td>\n",
       "    </tr>\n",
       "    <tr>\n",
       "      <th>Abbott Butte</th>\n",
       "      <td>north america</td>\n",
       "      <td>united states</td>\n",
       "      <td>nan</td>\n",
       "      <td>6125</td>\n",
       "      <td>1867</td>\n",
       "      <td>42.943457</td>\n",
       "      <td>-122.549764</td>\n",
       "      <td>eugene airport</td>\n",
       "      <td>NaN</td>\n",
       "    </tr>\n",
       "  </tbody>\n",
       "</table>\n",
       "</div>"
      ],
      "text/plain": [
       "                                 Continent         Country  \\\n",
       "19th Party Conference, Peak           asia      kyrgyzstan   \n",
       "8620, Peak                   north america   united states   \n",
       "A'Mhaighdean                        europe  united kingdom   \n",
       "Abbot, Mount                 north america   united states   \n",
       "Abbott Butte                 north america   united states   \n",
       "\n",
       "                                       Difficulty Elevation (feet)  \\\n",
       "19th Party Conference, Peak  basic snow/ice climb             5885   \n",
       "8620, Peak                        technical climb             8620   \n",
       "A'Mhaighdean                             scramble             3173   \n",
       "Abbot, Mount                 basic snow/ice climb            13704   \n",
       "Abbott Butte                                  nan             6125   \n",
       "\n",
       "                            Elevation (meters)   Latitude    Longitude  \\\n",
       "19th Party Conference, Peak               1794    39.3833      72.9667   \n",
       "8620, Peak                                2627      63.25      -150.25   \n",
       "A'Mhaighdean                               967    57.7196      -5.3463   \n",
       "Abbot, Mount                              4177    37.3864     -118.784   \n",
       "Abbott Butte                              1867  42.943457  -122.549764   \n",
       "\n",
       "                            Nearest major airport Year first climbed  \n",
       "19th Party Conference, Peak                   osh               1930  \n",
       "8620, Peak                              fairbanks                NaN  \n",
       "A'Mhaighdean                            inverness                NaN  \n",
       "Abbot, Mount                                  nan               1908  \n",
       "Abbott Butte                       eugene airport                NaN  "
      ]
     },
     "execution_count": 19,
     "metadata": {},
     "output_type": "execute_result"
    }
   ],
   "source": [
    "# I am making sure that I have the columns that I need and that the commas were taken out\n",
    "data.head()"
   ]
  },
  {
   "cell_type": "code",
   "execution_count": 20,
   "metadata": {},
   "outputs": [
    {
     "name": "stdout",
     "output_type": "stream",
     "text": [
      "<class 'pandas.core.frame.DataFrame'>\n",
      "Index: 4092 entries, 19th Party Conference, Peak to Šiljak (Rtanj)\n",
      "Data columns (total 9 columns):\n",
      "Continent                4092 non-null object\n",
      "Country                  4092 non-null object\n",
      "Difficulty               4092 non-null object\n",
      "Elevation (feet)         4086 non-null float64\n",
      "Elevation (meters)       4083 non-null float64\n",
      "Latitude                 3500 non-null object\n",
      "Longitude                3500 non-null object\n",
      "Nearest major airport    4092 non-null object\n",
      "Year first climbed       1461 non-null object\n",
      "dtypes: float64(2), object(7)\n",
      "memory usage: 319.7+ KB\n"
     ]
    }
   ],
   "source": [
    "# In order to be able to fill in the missing values of the Elevation columns by calculation, I need to turn the values in\n",
    "# these colums into numeric ones\n",
    "for col in ['Elevation (feet)', 'Elevation (meters)']:\n",
    "    data.loc[:, col] = pd.to_numeric(data.loc[:, col], errors='coerce') # Using 'coerce' since I am reassigning the output\n",
    "# checking dtypes\n",
    "data.info()"
   ]
  },
  {
   "cell_type": "code",
   "execution_count": 21,
   "metadata": {
    "collapsed": true
   },
   "outputs": [],
   "source": [
    "# For peaks that are missing both the Elevation by feet and by meters, I am taking these out (using the ~ sign)\n",
    "data = data[~(data['Elevation (feet)'].isnull() & data['Elevation (meters)'].isnull())] "
   ]
  },
  {
   "cell_type": "code",
   "execution_count": 22,
   "metadata": {
    "collapsed": true
   },
   "outputs": [],
   "source": [
    "# The following lines fill in the missing values in the Elevation columns\n",
    "# null_elevation_feet are the indices of the null values in 'Elevation (feet)'\n",
    "null_ealevation_feet = data['Elevation (feet)'][data['Elevation (feet)'].isnull()].index # These are the indices of the lines\n",
    "data.loc[null_ealevation_feet, 'Elevation (feet)'] = data['Elevation (meters)'] * METER_TO_FEET\n",
    "\n",
    "# null_elevation_meters are the indices of the null values in 'Elevation (meters)'\n",
    "null_ealevation_meters = data['Elevation (meters)'][data['Elevation (meters)'].isnull()].index\n",
    "data.loc[null_ealevation_meters, 'Elevation (meters)'] = data['Elevation (feet)'] * feet_to_meter"
   ]
  },
  {
   "cell_type": "code",
   "execution_count": 23,
   "metadata": {
    "collapsed": true
   },
   "outputs": [],
   "source": [
    "# After we take out the nans we can turn it into int\n",
    "data[['Elevation (feet)', 'Elevation (meters)']] = data[['Elevation (feet)', 'Elevation (meters)']].astype(int)"
   ]
  },
  {
   "cell_type": "code",
   "execution_count": 24,
   "metadata": {
    "scrolled": true
   },
   "outputs": [
    {
     "name": "stdout",
     "output_type": "stream",
     "text": [
      "<class 'pandas.core.frame.DataFrame'>\n",
      "Index: 4086 entries, 19th Party Conference, Peak to Šiljak (Rtanj)\n",
      "Data columns (total 9 columns):\n",
      "Continent                4086 non-null object\n",
      "Country                  4086 non-null object\n",
      "Difficulty               4086 non-null object\n",
      "Elevation (feet)         4086 non-null int32\n",
      "Elevation (meters)       4086 non-null int32\n",
      "Latitude                 3499 non-null object\n",
      "Longitude                3499 non-null object\n",
      "Nearest major airport    4086 non-null object\n",
      "Year first climbed       1461 non-null object\n",
      "dtypes: int32(2), object(7)\n",
      "memory usage: 447.3+ KB\n"
     ]
    }
   ],
   "source": [
    "# Making sure that I don't have any null in the Elavation colums as before \n",
    "data.info()"
   ]
  },
  {
   "cell_type": "code",
   "execution_count": 25,
   "metadata": {
    "collapsed": true
   },
   "outputs": [],
   "source": [
    "# The following line takes values of the 'Country' columns with two countries, separated by '/', split it by '/' and takes the\n",
    "# first country\n",
    "data['Country'] = data['Country'].str.split(\"/\").str.get(0)"
   ]
  },
  {
   "cell_type": "code",
   "execution_count": 26,
   "metadata": {},
   "outputs": [
    {
     "data": {
      "text/plain": [
       "19th Party Conference, Peak                        1930\n",
       "Abbot, Mount                                       1908\n",
       "Aberdeen, Mount                                    1894\n",
       "Aconcagua                                          1897\n",
       "Adamello                                           1864\n",
       "Adi Kailash                                        2004\n",
       "Agassiz, Mount                                     1925\n",
       "Agios Bernados                                     1800\n",
       "Agnes Mountain                                     1936\n",
       "Ago di Tredenus                                    1932\n",
       "Aguglia di Goloritzè                               1981\n",
       "Aguja De La S                                      1968\n",
       "Aguja Saint Exupery                                1968\n",
       "Aiguille Du Midi                                   1911\n",
       "Aiguille Du Moine                                  2001\n",
       "Aiguille Du Tour                                   1926\n",
       "Aiguille Sans Nom                                  1898\n",
       "Aiguille Verte                                     1865\n",
       "Aiguille de Bionassay                              1888\n",
       "Aiguille de Chambeyron                             1879\n",
       "Aiguille de Peclet                                 1877\n",
       "Aiguille de la Tsa                                 1868\n",
       "Aiguille du Chardonnet                             1865\n",
       "Aiguille du Jardin                                 1904\n",
       "Aiguille, Mont                                     1492\n",
       "Ailama                                             1937\n",
       "Alam Kuh                                           1939\n",
       "Alberta, Mount                                     1925\n",
       "Aletschhorn                                        1859\n",
       "Alice, Mount                                       1963\n",
       "                                          ...          \n",
       "Wrangell, Mount                                    1908\n",
       "Wrightson, Mount                                    N/A\n",
       "Yagumyum Peak                                    Unkown\n",
       "Yale, Mount                                        1869\n",
       "Yalung Ri                                          1952\n",
       "Yamsay Mountain                                    1962\n",
       "Yanapaccha                                         1954\n",
       "Yates 1                                            2000\n",
       "Yayamari                                           1982\n",
       "Ycatapom Peak                                  Pre-1925\n",
       "Yellowjacket Tower                                 1948\n",
       "Yerupaja                                           1950\n",
       "Yushan                                             1896\n",
       "Yuzhu Feng                                         1993\n",
       "Zanzber Kangri                                      ---\n",
       "Zengõ                                               N/A\n",
       "Zimba                                        about 1880\n",
       "Zinalrothorn                                       1864\n",
       "Zuckerhuetl                                        1863\n",
       "Zumsteinspitze                           1. August 1820\n",
       "aiguille de la grande sassière                     1808\n",
       "balmhorn                                           1864\n",
       "collins mountain                                   2007\n",
       "daugou                                             2005\n",
       "huiten, Mt                                        1963?\n",
       "kunyang chhish                                     1971\n",
       "m'goun                                             1983\n",
       "ylmer, Mt                                     Dec. 1910\n",
       "Ötscher                           several 100 years ago\n",
       "Čvrsnica                                           1933\n",
       "Name: Year first climbed, Length: 1461, dtype: object"
      ]
     },
     "execution_count": 26,
     "metadata": {},
     "output_type": "execute_result"
    }
   ],
   "source": [
    "# The line below is to examine what types of texts I may find in the 'Year first climbed' and is not part of the final code.\n",
    "# I did it several times to examine different types\n",
    "# data['Year first climbed'][data['Year first climbed'].notnull()]"
   ]
  },
  {
   "cell_type": "code",
   "execution_count": 27,
   "metadata": {
    "collapsed": true
   },
   "outputs": [],
   "source": [
    "def extract_year_from_text(text):\n",
    "    \"\"\"\n",
    "    The function takes a text and returns a 4 digit year, based on regex or using to_datetime. If doesn't find returns None\n",
    "    Input: text - any text\n",
    "    Returns an integer of the year or None\n",
    "    \"\"\"\n",
    "    \n",
    "    if type(text) == str: # The NaNs are floats, and I must use string for the regex\n",
    "        if re.findall('\\d{4}', text) != []: # If the regex finds a year\n",
    "            year_str_list = re.findall('\\d{4}', text) # Asuming no records prior to the year 1000 (3 digits)\n",
    "            # Since there are values with two years, I am turning it to integer, and taking the minimum (foloowing 2 lines)\n",
    "            year_int_list = [int(one_year) for one_year in year_str_list]\n",
    "            return str(min(year_int_list))\n",
    "        else:\n",
    "            try:\n",
    "                time_stamp = pd.to_datetime(text) # Aims mainly for values where the year is represented in two digits \n",
    "                return str(time_stamp.year)\n",
    "            except:\n",
    "                return None # If not a string change back to None"
   ]
  },
  {
   "cell_type": "code",
   "execution_count": 28,
   "metadata": {
    "collapsed": true
   },
   "outputs": [],
   "source": [
    "# The following line applies the extract_year_from_text function to the values in column 'Year first climbed'\n",
    "data.loc[:,'Year first climbed'] = data.loc[:,'Year first climbed'].apply(extract_year_from_text) "
   ]
  },
  {
   "cell_type": "code",
   "execution_count": 29,
   "metadata": {
    "collapsed": true
   },
   "outputs": [],
   "source": [
    "data.to_csv(\"{project_#2_tools_data}_{ishay_telavivi}.csv\", index_label='Peak name')"
   ]
  },
  {
   "cell_type": "code",
   "execution_count": null,
   "metadata": {
    "collapsed": true
   },
   "outputs": [],
   "source": []
  }
 ],
 "metadata": {
  "kernelspec": {
   "display_name": "Python 3",
   "language": "python",
   "name": "python3"
  },
  "language_info": {
   "codemirror_mode": {
    "name": "ipython",
    "version": 3
   },
   "file_extension": ".py",
   "mimetype": "text/x-python",
   "name": "python",
   "nbconvert_exporter": "python",
   "pygments_lexer": "ipython3",
   "version": "3.6.3"
  }
 },
 "nbformat": 4,
 "nbformat_minor": 2
}

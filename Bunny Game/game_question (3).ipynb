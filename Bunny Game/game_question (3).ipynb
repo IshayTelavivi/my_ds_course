{
 "cells": [
  {
   "cell_type": "markdown",
   "metadata": {
    "collapsed": true
   },
   "source": [
    "# Game Assignment\n",
    "In this assignment you will prgram a graphical game of a bunny protecting its youngsters agains the evil badgers!\n",
    "![screenshot](resources/images/BunniesBadgers.png)\n",
    "\n",
    "## Programming Environment\n",
    "I advice you to to write your code in pyCharm and NOT with jupyter notebooks (you can if you insist). This way you will learn a new IDE (details below).\n",
    "\n",
    "\n",
    "## Cheating\n",
    "The [solution](https://www.raywenderlich.com/24252/beginning-game-programming-for-teens-with-python) is in the internet. I advice you **not** to use it! You will **not** learn. Moreover, it's written by a 13 years old with very bad code style and code practice. It's **not** a best practice solution. If you copy you will learn bad coding practices.\n",
    "\n",
    "## Credits\n",
    "![](resources/images/JulianMeyer.jpg)\n",
    "Julian Meyer - a 13-year-old python developer (!)\n",
    "## Requirements \n",
    "\n",
    "* Installation of Python (e.g. Anaconda)\n",
    "* Installation of [pyCharm Community Edition](https://www.jetbrains.com/pycharm/download). - this is a python IDE which will enable you to run your code. Alternatively you can use a text editor (e.g. NotePad++) and run the code from the command line by calling `python game.py` where `game.py` will be the file with your code.\n",
    "\n",
    "* Installation of pyGame package.\n",
    "    In order to install packages in python on can google \"pygame install\" or just follow these simple instructions:\n",
    "\n",
    "    1. open a new anaconda command prompt (shell)\n",
    "\n",
    "    2. type `pip install pygame`\n",
    "\n",
    "    To check installation has worked open a new python session, e.g. by running `python` in the command line and then type `import pygame`\n",
    "* Resources (images, sounds) - download from the course website to the folder of the game (create one if you haven't done it so far).\n",
    "![screenshot](resources/images/resource_folder.png)\n"
   ]
  },
  {
   "cell_type": "markdown",
   "metadata": {},
   "source": [
    "# Step 1: Hello Bunny\n",
    "write a code which initialize the game.\n",
    "\n",
    "You will need to use the pygame package so first, import it.\n",
    "\n",
    "The pygame has several important functions:\n",
    "\n",
    "1. `pygame.init()` - init the game\n",
    "* `screen=pygame.display.set_mode((width, height))` - sets the screen size and save it in a screen object\n",
    "* `image = pygame.image.load(path_to_image_file)` - loads an image file into an object `image`\n",
    "* `screen.fill(0)` - clear the screen (before drawing it again), notice it uses the screen variable\n",
    "* `screen.blit(object, where)` - draw an object on the screen.\n",
    "* `pygame.display.flip()` - update the screen after all the `blit`\n",
    "* `pygame.event.get()` - get a list of events from the user (e.g. mouse click, keyboard click etc)\n",
    "* `pygame.quit()` - quit the game.\n",
    "\n",
    "Task:\n",
    "1. Write a piece of code which:\n",
    " * initialize pygame\n",
    " * setup the screen\n",
    " * loads the resource image `dude.png`\n",
    "2. Write an \"infinite\" `while` loop which ends when user quits. This is called the \"game loop\". Inside the loop, the following happens:\n",
    "* clear the screen (640 on 480 pixels)\n",
    "* place the player at x=100, y=100\n",
    "* update the screen\n",
    "* end the game if `event.type` equals to `pygame.QUIT` (which is a special event when the user quits the game by closing the window, X on the corner).\n",
    "\n",
    "You should see something like:\n",
    "![](resources/images/screenshot-1-391x320.png)\n",
    "The bunny is in the scene, and ready for action!\n",
    "\n",
    "But the game looks scary and lonely with the bunny just standing there on a black background. Time to prettify things a little bit. :]"
   ]
  },
  {
   "cell_type": "markdown",
   "metadata": {},
   "source": [
    "# Step 2: Add Scenery\n",
    "\n",
    "Let’s start by adding a background to the game scene! \n",
    "\n",
    "This can be done with a couple more screen.blit() calls.\n",
    "\n",
    "Luckily we have graphics for grass (grass.png) and for the castles (castel.png).\n",
    "\n",
    "Now they have to be drawn on screen... But if you check the grass image, you will notice that it won’t cover the entire screen area, which is 640 x 480. This means you have to tile the grass over the screen area to cover it completely. Tile means putting the same grass image over and over again.\n",
    "\n",
    "Similarirly you need to draw `N_CASTLE=4` castels at the left part of the screen, equally spaced from one another and equally spaced from the top and bottom margin. \n",
    "\n",
    "In order to tell what it the size of a blit image before placing it just call `.width` or `.height`, e.g:\n"
   ]
  },
  {
   "cell_type": "markdown",
   "metadata": {},
   "source": [
    "# Step 3: Make the Bunny Move\n",
    "Next you need to add some actual gameplay elements, like making the bunny respond to key presses.\n",
    "\n",
    "To do that, first you’ll implement a good method of keeping track of which keys are being pressed at a given moment. You can do this simply by making a data structure to keep the key states that holds the state of each key you want to use for the game.\n",
    "\n",
    "Add the following code to game.py at the end of section #2 (after you set the screen height and width):\n",
    "\n",
    "Since the game will move the player to different positions, it’s easier to have a variable that contains the player position and then simply draw the player at that position.\n",
    "\n",
    "Next, update the key data structure based on which keys are being pressed. PyGame makes detecting key presses easy by adding event.key functions. When a key is pressedthe `event.type` equals `pygame.KEYDOWN` and when the key is up then `event.type` equals `pygame.KEYUP`. The value of the key will appear in `event.key`. Search pygame docs to discover what is the value of lef, right up and bottom.\n",
    "\n",
    "First you check to see if a key is being pressed down or released. Then you check which key is being pressed or released, and if the key being pressed or released is one of the keys you’re using, you update the keys variable accordingly.\n",
    "\n",
    "Finally, you need to update the player position variable in response to the key presses. This is actually very simple, simply checks which of the keys are being pressed and adds or subtracts from the player’s x or y position (depending on the key pressed) to move the player (use a varialbe `PLAYER_SPEED` to determine how much to add/substract.\n",
    "\n",
    "Run the game and you should get a player just like before. Try pressing the arrows keys. Yay! It works.\n",
    "\n",
    "TIP: notice that if a key is down, the location of the play is updated in every game loop."
   ]
  },
  {
   "cell_type": "markdown",
   "metadata": {},
   "source": [
    "# Step 4: Turning the Bunny\n",
    "We will use the computer mouse cursor as a way to tell the bunny where to look at/turn to. \n",
    "In order to get the current mouse cursor position use `pygame.mouse.get_pos()`. \n",
    "\n",
    "To know the angle of rotation, `import math` and use `math.atan2` on the difference between the bunny and mouse cursor location. Notice that `atan2` returns randians (2*pi is 360 degress)\n",
    "\n",
    "In order to turn the bunny's image use `pygame.transform.rotate` (notice `rotate` gets angles as input)\n",
    "\n",
    "Notice a confusing issue: since the rotation axis is the left-bottom (?) corner of the image, when the bunny be rotated, its position will change. You will need to correct this by using `bunny.get_rect().width` and `bunny.get_rect().hight` which help you find out how to adjust the bunny position so that it would look like the bunny rotates around the central axis.\n",
    "\n",
    "Trigo reminder:\n",
    "![](resources/images/trig-lesson.png)\n",
    "\n",
    "You should end up with something like this:\n",
    "![](resources/images/bunny-rotate.png)"
   ]
  },
  {
   "cell_type": "markdown",
   "metadata": {},
   "source": [
    "# Step 5: Shoot Bunny Shoot!\n",
    "\n",
    "Now that your bunny’s moving around, it’s time to add a little more action. :] How about letting the bunny shoot enemies using arrows? This is no mild-mannered rabbit!\n",
    "\n",
    "This step is a bit more complicated because you have to keep track of all the arrows, update them, rotate them, and delete them when they go off-screen.\n",
    "\n",
    "The arrow graphics can be loaded from \"resources/images/bullet.png\": ![](resources/images/bullet.png)\n",
    "\n",
    "An arrow is fired if the mouse button was clicked. You can know that by `event.type` being equal to `pygame.MOUSEBUTTONDOWN`.\n",
    "\n",
    "For every arrow, you will need to keep track of it's position (x,y) and it's angle. Thus, first of all, add the necessary variable to track all the arrows. Then you will need to add an arrow when it is fired. \n",
    "\n",
    "Define an arrow velocity variable. In order to make the arrows fly, in every game loop update each arrow position according to it's direction. Hint: use `math.sin` and `math.cos` to find the speed in x and y axises for each arrow. Then use these velocities to update the x and y location, e.g. `x=x+vx`, `y=y+vy`.\n",
    "\n",
    "The arrows should be removed from the arrow list if their position is out of the game boundaries. \n",
    "\n",
    "Note: in order for the arrows to appear like coming out from the bunny's bow you might want to change the starting position relative to the bunnies location and orientation. \n",
    "\n",
    "![](resources/images/fire.png)"
   ]
  },
  {
   "cell_type": "markdown",
   "metadata": {},
   "source": [
    "# Step 6: Badgers! "
   ]
  },
  {
   "cell_type": "markdown",
   "metadata": {},
   "source": [
    "OK, you have a castle and you have a hero who can move and shoot. So what’s missing? Enemies who attack the castle that the hero can shoot at!\n",
    "\n",
    "In this step, you’ll create randomly generated badgers that run at the castle. There will be more and more badgers as the game progresses. So, let’s make a list of what you’ll need it to do.\n",
    "\n",
    "1. Add bad guys to a list an array.\n",
    "2. Update the bad guy array each frame and check if they are off screen.\n",
    "3. Show the bad guys.\n",
    "\n",
    "\n",
    "The badger image is in resources/images/badguy.png ![](resources/images/badguy.png)\n",
    "\n",
    "The badger start on the right of the screen on a random y-axis location and move to the left with a constant speed.\n",
    "\n",
    "Create the next badger every # loops.\n",
    "\n",
    "Don't forget to remove the badger if it's off screen. \n",
    "\n",
    "Have a health value (start with #) and decreae by # every time a budger hits the castle on the left (reaches the endof the screen).\n",
    "\n",
    "OPTIONAL:\n",
    "Create a mechanism to increase the badger appearance rate as the game progress up to a limit to simulate difficulty increase. This can be done by slowly decreassing the number of loops until a new badger appears.\n",
    "\n",
    "![](resources/images/enemy.png)"
   ]
  },
  {
   "cell_type": "markdown",
   "metadata": {},
   "source": [
    "# TO BE CONTINUE... \n",
    "What's left?\n",
    "1. detect a badger was hit\n",
    "2. update health bar and accuracy\n",
    "3. add clock timer\n",
    "4. game over when health = 0, game win otherwise if time over.\n",
    "5. compute hit accuracy"
   ]
  },
  {
   "cell_type": "code",
   "execution_count": null,
   "metadata": {},
   "outputs": [],
   "source": []
  }
 ],
 "metadata": {
  "kernelspec": {
   "display_name": "Python 3",
   "language": "python",
   "name": "python3"
  },
  "language_info": {
   "codemirror_mode": {
    "name": "ipython",
    "version": 3
   },
   "file_extension": ".py",
   "mimetype": "text/x-python",
   "name": "python",
   "nbconvert_exporter": "python",
   "pygments_lexer": "ipython3",
   "version": "3.6.3"
  }
 },
 "nbformat": 4,
 "nbformat_minor": 1
}

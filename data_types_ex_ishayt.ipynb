{
 "cells": [
  {
   "cell_type": "markdown",
   "metadata": {},
   "source": [
    "### Exercise 1"
   ]
  },
  {
   "cell_type": "markdown",
   "metadata": {},
   "source": [
    "1. Assign your height in meters to a variable called _height_ and your weight in kilograms to a variable called _weight_.\n",
    "2. Calculate your BMI and assign the value to a variable called BMI. ($BMI=\\frac{w}{h^2}$)\n",
    "3. Print the sentence \"My height is \\_\\_\\_ meters, my weight is \\_\\_\\_ Kgs, and my BMI is \\_\\_\\_.”.\n",
    "4. Print the sentence, so that each part of it will be in a new line."
   ]
  },
  {
   "cell_type": "code",
   "execution_count": 4,
   "metadata": {},
   "outputs": [
    {
     "name": "stdout",
     "output_type": "stream",
     "text": [
      "My height is 1 meters \n",
      "my weight is 68 Kgs \n",
      "and my BMI is 21\n"
     ]
    }
   ],
   "source": [
    "# As constants, these come at the top, and with uppercase font\n",
    "MY_HEIGHT_METERS = 1.77\n",
    "MY_WEIGHT_KG = 68\n",
    "\n",
    "my_bmi = round(MY_WEIGHT_KG / MY_HEIGHT_METERS ** 2,2) # In this case I used lowercase, since it is a variable\n",
    "print (\"My height is %d meters \\n\" % MY_HEIGHT_METERS + \"my weight is %d Kgs \\n\" % MY_WEIGHT_KG + \"and my BMI is %d\" % my_bmi)"
   ]
  },
  {
   "cell_type": "markdown",
   "metadata": {},
   "source": [
    "### Exercise 2"
   ]
  },
  {
   "cell_type": "markdown",
   "metadata": {},
   "source": [
    "1. Assign your first name and your last name to the variables _first_\\__name_ and _last_\\__name_, respectively.\n",
    "2. How many letters does your full name have?\n",
    "3. Create your full name by concatenating _first_\\__name_ and _first_\\__name_ with a space in the middle, and assign the result to a variable called _full_\\__name_.\n",
    "4. Use the string method _replace()_ to change all the vowels in your full name from lower case to upper case. (Vowels are the letters 'a', 'e', 'i', 'o' & 'u')\n",
    "\n",
    "    * Note that you are not allowed to use the _for_ syntax at the moment."
   ]
  },
  {
   "cell_type": "code",
   "execution_count": 42,
   "metadata": {},
   "outputs": [
    {
     "name": "stdout",
     "output_type": "stream",
     "text": [
      "My full name, Ishay Telavivi, has 13 letters (excluding the space).\n",
      "IshAy TElAvIvI\n"
     ]
    }
   ],
   "source": [
    "FIRST_NAME = \"Ishay\"\n",
    "LAST_NAME = \"Telavivi\"\n",
    "\n",
    "# First I am counting the letters in both first and last names\n",
    "n_letters_in_full_name = len(FIRST_NAME + LAST_NAME)\n",
    "full_name = FIRST_NAME + \" \" + LAST_NAME\n",
    "print (\"My full name, %s, has \" % full_name + str(n_letters_in_full_name) + \" letters (excluding the space).\")\n",
    "\n",
    "full_name_upper_for_vowels = full_name.replace('a','A').replace('e', 'E').replace('i', 'I').replace('o', 'O').replace('u', 'U')\n",
    "print (full_name_upper_for_vowels)"
   ]
  },
  {
   "cell_type": "markdown",
   "metadata": {},
   "source": [
    "### Exercise 3"
   ]
  },
  {
   "cell_type": "markdown",
   "metadata": {},
   "source": [
    "Define proper variables with the following data for yourself and for one of your imaginary friends: gender (string), age (int), city (string) and marital status (Boolean). Then create the following Boolean variables:\n",
    "\n",
    "1. _same_\\__city_ – do both of you live in the same city?\n",
    "2. _is_\\__older_ – is your friend older than you?\n",
    "3. _diff_\\__gender_ – are you from different genders?\n",
    "4. _both_\\__married_ – are you both married?"
   ]
  },
  {
   "cell_type": "code",
   "execution_count": 41,
   "metadata": {},
   "outputs": [
    {
     "name": "stdout",
     "output_type": "stream",
     "text": [
      "Do both of us live in the same city? False\n",
      "Is my friend older than me? False\n",
      "Are we from different genders? False\n",
      "Are we both married? True\n"
     ]
    }
   ],
   "source": [
    "# My data:\n",
    "MY_GENDER = \"Male\"\n",
    "MY_AGE = 42\n",
    "MY_CITY = \"Kfar Saba\"\n",
    "MY_MARITAL = True\n",
    "\n",
    "# Friend's data:\n",
    "FRIEND_GENDER = \"Male\"\n",
    "FRIEND_AGE = 40\n",
    "FRIEND_CITY = \"Givataim\"\n",
    "FRIEND_MARITAL = True\n",
    "\n",
    "same_city = MY_CITY == FRIEND_CITY\n",
    "is_older = FRIEND_AGE > MY_AGE\n",
    "diff_gender = MY_GENDER != FRIEND_GENDER\n",
    "both_married = MY_MARITAL and FRIEND_MARITAL\n",
    "\n",
    "# Now checking the Boolean variables:\n",
    "print (\"Do both of us live in the same city? \" + str(same_city))\n",
    "print (\"Is my friend older than me? \" + str(is_older))\n",
    "print (\"Are we from different genders? \" + str(diff_gender))\n",
    "print (\"Are we both married? \" + str(both_married))"
   ]
  },
  {
   "cell_type": "code",
   "execution_count": null,
   "metadata": {
    "collapsed": true
   },
   "outputs": [],
   "source": []
  }
 ],
 "metadata": {
  "kernelspec": {
   "display_name": "Python 3",
   "language": "python",
   "name": "python3"
  },
  "language_info": {
   "codemirror_mode": {
    "name": "ipython",
    "version": 3
   },
   "file_extension": ".py",
   "mimetype": "text/x-python",
   "name": "python",
   "nbconvert_exporter": "python",
   "pygments_lexer": "ipython3",
   "version": "3.6.3"
  }
 },
 "nbformat": 4,
 "nbformat_minor": 2
}

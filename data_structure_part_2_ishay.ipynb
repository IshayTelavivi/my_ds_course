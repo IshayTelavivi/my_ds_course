{
 "cells": [
  {
   "cell_type": "markdown",
   "metadata": {},
   "source": [
    "### Exercise 1"
   ]
  },
  {
   "cell_type": "markdown",
   "metadata": {},
   "source": [
    "1. Create a dictionary with 3 items of the following form:\n",
    "    * key – a letter\n",
    "    * value – a list of words starting with the key letter\n",
    "2. Use the mutability of the dictionary to add a new word to each of the dictionary items without recreating its values.\n",
    "3. Add a new item to the dictionary.\n",
    "4. Remove an item from the dictionary.\n",
    "5. Create a list, whose elements are the lists of words from the dictionary."
   ]
  },
  {
   "cell_type": "code",
   "execution_count": 20,
   "metadata": {},
   "outputs": [
    {
     "name": "stdout",
     "output_type": "stream",
     "text": [
      "[['apple', 'ant', 'ambiguous', 'anaconda'], ['cat', 'car', 'creature', 'canada'], ['door', 'dream', 'dashboard']]\n"
     ]
    }
   ],
   "source": [
    "# Creating the dictionary\n",
    "abc_dict = {'a': ['apple', 'ant', 'ambiguous'], 'b': ['banana', 'bold', 'break'], 'c': ['cat', 'car', 'creature']}\n",
    "\n",
    "# Adding a new word to each one of the value lists\n",
    "abc_dict['a'].append('anaconda')\n",
    "abc_dict['b'].append('brush')\n",
    "abc_dict['c'].append('canada')\n",
    "\n",
    "# Adding the item 'd'\n",
    "abc_dict['d'] = ['door', 'dream', 'dashboard']\n",
    "\n",
    "# Removing an item from the dictionary\n",
    "abc_dict.pop('b')\n",
    "\n",
    "# Craeting a list of the value lists\n",
    "list_of_lists = [abc_dict['a'], abc_dict['c'], abc_dict['d']]\n",
    "print (list_of_lists)"
   ]
  },
  {
   "cell_type": "markdown",
   "metadata": {},
   "source": [
    "### Exercise 2"
   ]
  },
  {
   "cell_type": "markdown",
   "metadata": {},
   "source": [
    "In this exercise we will construct a complex dictionary step-by-step. Before you start, choose two continents, and from each continent choose two countries.\n",
    "\n",
    "1. For each of the four countries create a list of cities from that country.\n",
    "2. For each of the two continents create a dictionary with two items of the following form:\n",
    "    * key – country name\n",
    "    * value – the list of cities from that country\n",
    "3. Create a new dictionary called _world_\\__dict_ with two items of the following form:\n",
    "    * key – continent name\n",
    "    * value – the dictionary of the key continent"
   ]
  },
  {
   "cell_type": "code",
   "execution_count": 19,
   "metadata": {},
   "outputs": [
    {
     "data": {
      "text/plain": [
       "{'Africa': {'Egypt': ['Cairo', 'Alexandria'],\n",
       "  'South Africa': ['Capetown', 'Johanesburg']},\n",
       " 'Europe': {'France': ['Paris', 'Lion'],\n",
       "  'Italy': ['Rome', 'Napoli', 'Milano']}}"
      ]
     },
     "execution_count": 19,
     "metadata": {},
     "output_type": "execute_result"
    }
   ],
   "source": [
    "# Creating a list of cities for each country\n",
    "france_cities_list = ['Paris', 'Lion']\n",
    "italy_cities_list = ['Rome', 'Napoli', 'Milano']\n",
    "south_africa_cities_list = ['Capetown', 'Johanesburg']\n",
    "egypt_cities_list = ['Cairo', 'Alexandria']\n",
    "\n",
    "# Creating continent dictionaries\n",
    "europe_dict = {'France': france_cities_list, 'Italy': italy_cities_list}\n",
    "africa_dict = {'South Africa': south_africa_cities_list, 'Egypt': egypt_cities_list}\n",
    "\n",
    "# Creating world dictionary\n",
    "world_dict = {'Europe': europe_dict, 'Africa': africa_dict}\n",
    "world_dict"
   ]
  },
  {
   "cell_type": "markdown",
   "metadata": {
    "collapsed": true
   },
   "source": [
    "# Set Exercises"
   ]
  },
  {
   "cell_type": "markdown",
   "metadata": {},
   "source": [
    "### Exercise 1"
   ]
  },
  {
   "cell_type": "markdown",
   "metadata": {},
   "source": [
    "Create two strings and write a code that prints the number of their common letters (excluding duplicates).\n",
    "\n",
    "> For example the result for 'abracadabra' and 'barbarian' is 3 ('a', 'b' & 'r')."
   ]
  },
  {
   "cell_type": "code",
   "execution_count": 1,
   "metadata": {},
   "outputs": [
    {
     "name": "stdout",
     "output_type": "stream",
     "text": [
      "{'a'}\n"
     ]
    }
   ],
   "source": [
    "my_name = 'IshayTelavivi'\n",
    "my_city = 'KfarSaba'\n",
    "\n",
    "name_set = set(my_name)\n",
    "city_set = set(my_city)\n",
    "print(name_set & city_set)"
   ]
  },
  {
   "cell_type": "markdown",
   "metadata": {},
   "source": [
    "### Exercise 2"
   ]
  },
  {
   "cell_type": "markdown",
   "metadata": {},
   "source": [
    "You are given three lists, recording the visitors of the museum on Sunday, Monday and Tuesday. Note that a visitor might appear more than once even on thhe same day. Answer the following questions:\n",
    "\n",
    "1. Create sets for the unique visitors for each day and for the entire three days (4 sets in total).\n",
    "2. Is there a day, that every visitor of that day, had also visited on another day?\n",
    "3. Which visitors visited the museum on more than a single day? Which visitors visited every day??\n",
    "4. Which visitors visited the museum **only** on Tuesday?\n",
    "5. Which visitors visited **exactly** on one of the days Sunday and Monday?"
   ]
  },
  {
   "cell_type": "code",
   "execution_count": 3,
   "metadata": {},
   "outputs": [
    {
     "name": "stdout",
     "output_type": "stream",
     "text": [
      "Sunday:  False\n",
      "Monday:  True\n",
      "Tuesday  False\n"
     ]
    }
   ],
   "source": [
    "sunday_visitors = ['abe', 'bob', 'carl', 'dave', 'ed',\n",
    "                   'heinrich', 'isabel', 'abe', 'fred']\n",
    "monday_visitors = ['abe', 'gale', 'ed', 'fred']\n",
    "tuesday_visitors = ['ed', 'bob', 'jack', 'fred', 'abe',\n",
    "                    'abe', 'jack', 'kent', 'gale']\n",
    "                    \n",
    "# 1. Creating sets\n",
    "sunday_set = set(sunday_visitors)\n",
    "monday_set = set(monday_visitors)\n",
    "tuesday_set = set(tuesday_visitors)\n",
    "all_days_set = (sunday_set | monday_set | tuesday_set)\n",
    "\n",
    "# 2. Checking if every visitor of that day, had also visited on another day \n",
    "print(\"Sunday: \", sunday_set < monday_set | tuesday_set)\n",
    "print(\"Monday: \", monday_set < sunday_set | tuesday_set)\n",
    "print(\"Tuesday \", tuesday_set < sunday_set | monday_set)"
   ]
  },
  {
   "cell_type": "code",
   "execution_count": 4,
   "metadata": {},
   "outputs": [
    {
     "name": "stdout",
     "output_type": "stream",
     "text": [
      "{'ed', 'fred', 'abe', 'gale'}\n",
      "{'abe', 'ed', 'fred'}\n"
     ]
    }
   ],
   "source": [
    "# 3. visitors visited the museum on more than a single day\n",
    "# I am checking the intersection of each couple of days (this covers also the intersection of all days)\n",
    "print ((sunday_set & monday_set) | (sunday_set & monday_set) | (monday_set & tuesday_set))\n",
    "\n",
    "# To find out the visitors who came every day we use intersection of all\n",
    "print (sunday_set & monday_set & tuesday_set)"
   ]
  },
  {
   "cell_type": "code",
   "execution_count": 5,
   "metadata": {},
   "outputs": [
    {
     "name": "stdout",
     "output_type": "stream",
     "text": [
      "{'kent', 'jack'}\n"
     ]
    }
   ],
   "source": [
    "# 4. Visitors visited the museum only on Tuesday. For that I will subtract sun+mon set from tuesday\n",
    "print (tuesday_set - (sunday_set | monday_set))"
   ]
  },
  {
   "cell_type": "code",
   "execution_count": 6,
   "metadata": {},
   "outputs": [
    {
     "name": "stdout",
     "output_type": "stream",
     "text": [
      "{'carl', 'dave', 'gale', 'bob', 'isabel', 'heinrich'}\n"
     ]
    }
   ],
   "source": [
    "# 5. Visitors visited exactly on one of the days Sunday and Monday\n",
    "# To do that we need to 'xor' Sunday and Monday\n",
    "print (sunday_set ^ monday_set)"
   ]
  }
 ],
 "metadata": {
  "kernelspec": {
   "display_name": "Python 3",
   "language": "python",
   "name": "python3"
  },
  "language_info": {
   "codemirror_mode": {
    "name": "ipython",
    "version": 3
   },
   "file_extension": ".py",
   "mimetype": "text/x-python",
   "name": "python",
   "nbconvert_exporter": "python",
   "pygments_lexer": "ipython3",
   "version": "3.6.3"
  }
 },
 "nbformat": 4,
 "nbformat_minor": 2
}

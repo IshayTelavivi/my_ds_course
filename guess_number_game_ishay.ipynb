{
 "cells": [
  {
   "cell_type": "code",
   "execution_count": null,
   "metadata": {},
   "outputs": [
    {
     "name": "stdout",
     "output_type": "stream",
     "text": [
      "I have chosen a number between 1 and 100.\n",
      "Please try to guess it...\n"
     ]
    }
   ],
   "source": [
    "# import necessary module\n",
    "\n",
    "import random\n",
    "\n",
    "\n",
    "\n",
    "# The computer \"chooses\" a number\n",
    "\n",
    "my_number = random.randint(1, 100)\n",
    "\n",
    "\n",
    "\n",
    "# The program asks you to play\n",
    "\n",
    "print(\"I have chosen a number between 1 and 100.\")\n",
    "\n",
    "print(\"Please try to guess it...\")\n",
    "\n",
    "\n",
    "\n",
    "# The program reads your guess and stores it\n",
    "\n",
    "user_guess = int(input())\n",
    "\n",
    "\n",
    "\n",
    "# The game is on...\n",
    "\n",
    "while my_number != user_guess:\n",
    "\n",
    "    # I have assigned a new variable 'result' to get 'high' of 'low' value\n",
    "\n",
    "    if user_guess > my_number:\n",
    "\n",
    "        result = 'high'\n",
    "\n",
    "    else:\n",
    "\n",
    "        result = 'low'\n",
    "\n",
    "    # I used the \"\"\" to drop line after the 'Wrong!'\n",
    "\n",
    "    print(\"\"\"Wrong!\n",
    "\n",
    "    You are too %s\"\"\" % result, \", please try again...\")\n",
    "\n",
    "    # We need another user input for the following iterarion\n",
    "\n",
    "    user_guess = int(input())\n",
    "\n",
    "\n",
    "\n",
    "print(\"Finally :-)\\nGAME OVER\")"
   ]
  },
  {
   "cell_type": "code",
   "execution_count": null,
   "metadata": {
    "collapsed": true
   },
   "outputs": [],
   "source": []
  }
 ],
 "metadata": {
  "kernelspec": {
   "display_name": "Python 3",
   "language": "python",
   "name": "python3"
  },
  "language_info": {
   "codemirror_mode": {
    "name": "ipython",
    "version": 3
   },
   "file_extension": ".py",
   "mimetype": "text/x-python",
   "name": "python",
   "nbconvert_exporter": "python",
   "pygments_lexer": "ipython3",
   "version": "3.6.3"
  }
 },
 "nbformat": 4,
 "nbformat_minor": 2
}

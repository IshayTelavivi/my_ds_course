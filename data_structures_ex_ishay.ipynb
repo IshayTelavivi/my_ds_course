{
 "cells": [
  {
   "cell_type": "markdown",
   "metadata": {},
   "source": [
    "### Exercise 1"
   ]
  },
  {
   "cell_type": "markdown",
   "metadata": {},
   "source": [
    "1.\tCreate two lists of strings:\n",
    "    * _boys_ with 3 names of boys\n",
    "    * _girls_ with 3 names of girls.\n",
    "2.\tDo the following with list methods:\n",
    "    * Use _append()_ to add _boys_ a 4th name at the end.\n",
    "    * Use _insert()_ to add _girls_ a 4th name at the beginning.\n",
    "    * Use _pop()_ to remove from _girls_ the last name and assign it to a variable called _bride_.\n",
    "    * Use _pop()_ to remove from _boys_ the first name and assign it to a variable called _groom_.\n",
    "    * Use _remove()_ to remove the last name from boys.\n",
    "        * Can you do it without knowing the actual name of the last boy.\n",
    "    * Create a **new** list called _names_, which is the concatenation of _boys_ and _girls_.\n",
    "        * Why will _extend()_ not do the job?"
   ]
  },
  {
   "cell_type": "code",
   "execution_count": 18,
   "metadata": {},
   "outputs": [
    {
     "name": "stdout",
     "output_type": "stream",
     "text": [
      "boys= ['Ishay', 'Amir', 'Lior']\n",
      "girls= ['Orli', 'Galit', 'Hadas']\n",
      "['Ishay', 'Amir', 'Lior', 'Yossi']\n",
      "['Michal', 'Orli', 'Galit', 'Hadas']\n",
      "Hadas Ishay\n",
      "['Amir', 'Yossi']\n",
      "['Amir', 'Yossi', 'Michal', 'Orli', 'Galit']\n"
     ]
    }
   ],
   "source": [
    "boys_list = ['Ishay', 'Amir', 'Lior']\n",
    "girls_list = ['Orli', 'Galit', 'Hadas']\n",
    "print ('boys=', boys_list)\n",
    "print ('girls=', girls_list)\n",
    "\n",
    "# Appending Yossi to 'boys'\n",
    "boys_list.append('Yossi')\n",
    "print (boys_list)\n",
    "\n",
    "# Inserting Michal to 'girls' as  \n",
    "girls_list.insert(0, 'Michal')\n",
    "print (girls_list)\n",
    "\n",
    "# Poping bride and groom\n",
    "bride = girls_list.pop(3)\n",
    "groom = boys_list.pop(0)\n",
    "print (bride, groom)\n",
    "\n",
    "boys_list.remove(boys[-1])\n",
    "print (boys_list)\n",
    "\n",
    "names_list = boys_list + girls_list\n",
    "print (names_list)\n",
    "# extend can not do the work because it is an inplace function that modifies the original list "
   ]
  },
  {
   "cell_type": "markdown",
   "metadata": {
    "collapsed": true
   },
   "source": [
    "### Exercise 2"
   ]
  },
  {
   "cell_type": "markdown",
   "metadata": {},
   "source": [
    "1. Create three variables of type list representing three guys. Each list should be of the form [name (string), age (int), married (Boolean)]. Give the lists proper variable names.\n",
    "2. Modify the age of one of the guys. Note that lists are mutable, so you can do that using direct assignment and there is no need to recreate the entire list.\n",
    "3. Create a **new** list called _guys_, whose elements are the three lists you’ve created. Note that you've created a list of lists.\n",
    "4. Create a list for another \"guy\" and append it to _guys_.\n",
    "5. Modify the age of one of the guys in _guys_. Again - remember that _guys_ is mutable, so you can \"access\" its elements and modify them directly.\n",
    "6. Remove one of the elements of _guys_ with two different methods:\n",
    "    * using pop()\n",
    "    * using remove()"
   ]
  },
  {
   "cell_type": "code",
   "execution_count": 20,
   "metadata": {},
   "outputs": [
    {
     "name": "stdout",
     "output_type": "stream",
     "text": [
      "[['Yossi', 26, False], ['Moshe', 50, True], ['John', 33, True]]\n",
      "[['Yossi', 26, False], ['Moshe', 50, True], ['John', 33, True], ['Yair', 18, True]]\n",
      "[['Yossi', 26, False], ['Moshe', 50, True], ['John', 39, True], ['Yair', 18, True]]\n",
      "[['Yossi', False], ['Moshe', True], ['John', True], ['Yair', True]]\n"
     ]
    }
   ],
   "source": [
    "guy_1 = [\"Yossi\", 26, False]\n",
    "guy_2 = [\"Moshe\", 43, True]\n",
    "guy_3 = [\"John\", 33, True]\n",
    "\n",
    "# Modifying the eage of 'Moshe'\n",
    "guy_2[1] = 50\n",
    "\n",
    "# Creating a list of lists\n",
    "guys_list = [guy_1, guy_2, guy_3]\n",
    "print (guys_list)\n",
    "\n",
    "# Creating another guy\n",
    "guy_4 = [\"Yair\", 18, True]\n",
    "guys_list.append(guy_4)\n",
    "print (guys_list)\n",
    "\n",
    "# Modifying the age of 'John' \n",
    "guys_list[2][1] = 39\n",
    "print (guys_list)\n",
    "\n",
    "# Poping 'age' element from 'guys'\n",
    "for item in guys_list:\n",
    "    item.pop(1)\n",
    "print (guys_list)\n"
   ]
  },
  {
   "cell_type": "markdown",
   "metadata": {},
   "source": [
    "### Exercise 3"
   ]
  },
  {
   "cell_type": "markdown",
   "metadata": {},
   "source": [
    "1. Write a sentence (string) and assign it to a variable called _sentence_. \n",
    "2. Print your sentence, so that every word is printed in a new line.\n",
    "3. Count how many times the letter ‘m’ appears in _sentence_ in two differnt ways:\n",
    "    * by using the string method count().\n",
    "    * without using the string method count()."
   ]
  },
  {
   "cell_type": "code",
   "execution_count": 26,
   "metadata": {},
   "outputs": [
    {
     "name": "stdout",
     "output_type": "stream",
     "text": [
      "I\n",
      "am\n",
      "not\n",
      "a\n",
      "fish\n",
      "['I a', ' not a fish']\n",
      "1\n"
     ]
    }
   ],
   "source": [
    "sentence_str = \"I am not a fish\"\n",
    "print (\"\\n\".join(sentence_str.split()))\n",
    "\n",
    "# Counting 'm' using 'count'\n",
    "sentence_str.count(\"m\")\n",
    "\n",
    "# Counting 'm' using split by 'm'\n",
    "new_sentence_str = sentence_str.split(\"m\")\n",
    "print (new_sentence_str)\n",
    "print (len(new_sentence_str)-1)"
   ]
  },
  {
   "cell_type": "code",
   "execution_count": null,
   "metadata": {
    "collapsed": true
   },
   "outputs": [],
   "source": []
  }
 ],
 "metadata": {
  "kernelspec": {
   "display_name": "Python 3",
   "language": "python",
   "name": "python3"
  },
  "language_info": {
   "codemirror_mode": {
    "name": "ipython",
    "version": 3
   },
   "file_extension": ".py",
   "mimetype": "text/x-python",
   "name": "python",
   "nbconvert_exporter": "python",
   "pygments_lexer": "ipython3",
   "version": "3.6.3"
  }
 },
 "nbformat": 4,
 "nbformat_minor": 2
}
